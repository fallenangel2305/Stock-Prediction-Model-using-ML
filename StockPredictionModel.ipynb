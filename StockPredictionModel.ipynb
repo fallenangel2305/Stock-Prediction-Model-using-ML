{
  "nbformat": 4,
  "nbformat_minor": 0,
  "metadata": {
    "colab": {
      "name": "StockPredictionModel.ipynb",
      "provenance": [],
      "authorship_tag": "ABX9TyP20TpzrgbSmfWr8IyIjfMo",
      "include_colab_link": true
    },
    "kernelspec": {
      "name": "python3",
      "display_name": "Python 3"
    }
  },
  "cells": [
    {
      "cell_type": "markdown",
      "metadata": {
        "id": "view-in-github",
        "colab_type": "text"
      },
      "source": [
        "<a href=\"https://colab.research.google.com/github/fallenangel2305/Stock-Prediction-Model-using-ML/blob/main/StockPredictionModel.ipynb\" target=\"_parent\"><img src=\"https://colab.research.google.com/assets/colab-badge.svg\" alt=\"Open In Colab\"/></a>"
      ]
    },
    {
      "cell_type": "code",
      "metadata": {
        "id": "2i4EwFEXriD4"
      },
      "source": [
        "# This a program predicts the price of google stocks for a specific day"
      ],
      "execution_count": 61,
      "outputs": []
    },
    {
      "cell_type": "code",
      "metadata": {
        "id": "pK576v3KsYX9"
      },
      "source": [
        "# Import the libraries\r\n",
        "from sklearn.svm import SVR\r\n",
        "import numpy as np\r\n",
        "import pandas as pd\r\n",
        "import matplotlib.pyplot as plt\r\n",
        "plt.style.use('seaborn-darkgrid')"
      ],
      "execution_count": 62,
      "outputs": []
    },
    {
      "cell_type": "code",
      "metadata": {
        "colab": {
          "resources": {
            "http://localhost:8080/nbextensions/google.colab/files.js": {
              "data": "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",
              "ok": true,
              "headers": [
                [
                  "content-type",
                  "application/javascript"
                ]
              ],
              "status": 200,
              "status_text": ""
            }
          },
          "base_uri": "https://localhost:8080/",
          "height": 72
        },
        "id": "00k45BjPt49z",
        "outputId": "b51002c0-04c1-4119-e1fb-b4c299cbbee9"
      },
      "source": [
        "# Load the data\r\n",
        "from google.colab import files # Use to load data on Google Colab\r\n",
        "uploaded = files.upload() # Use to load data on Google Colab\r\n"
      ],
      "execution_count": 64,
      "outputs": [
        {
          "output_type": "display_data",
          "data": {
            "text/html": [
              "\n",
              "     <input type=\"file\" id=\"files-661d4e20-1917-404b-94f4-d152ddc760a1\" name=\"files[]\" multiple disabled\n",
              "        style=\"border:none\" />\n",
              "     <output id=\"result-661d4e20-1917-404b-94f4-d152ddc760a1\">\n",
              "      Upload widget is only available when the cell has been executed in the\n",
              "      current browser session. Please rerun this cell to enable.\n",
              "      </output>\n",
              "      <script src=\"/nbextensions/google.colab/files.js\"></script> "
            ],
            "text/plain": [
              "<IPython.core.display.HTML object>"
            ]
          },
          "metadata": {
            "tags": []
          }
        },
        {
          "output_type": "stream",
          "text": [
            "Saving GOOG_Last_Month.csv to GOOG_Last_Month (1).csv\n"
          ],
          "name": "stdout"
        }
      ]
    },
    {
      "cell_type": "code",
      "metadata": {
        "colab": {
          "base_uri": "https://localhost:8080/",
          "height": 700
        },
        "id": "xaIQtwNwvGGE",
        "outputId": "930b688e-3700-4477-8d8c-cc5d6609c5ce"
      },
      "source": [
        "df = pd.read_csv('GOOG_Last_Month.csv')\r\n",
        "df"
      ],
      "execution_count": 67,
      "outputs": [
        {
          "output_type": "execute_result",
          "data": {
            "text/html": [
              "<div>\n",
              "<style scoped>\n",
              "    .dataframe tbody tr th:only-of-type {\n",
              "        vertical-align: middle;\n",
              "    }\n",
              "\n",
              "    .dataframe tbody tr th {\n",
              "        vertical-align: top;\n",
              "    }\n",
              "\n",
              "    .dataframe thead th {\n",
              "        text-align: right;\n",
              "    }\n",
              "</style>\n",
              "<table border=\"1\" class=\"dataframe\">\n",
              "  <thead>\n",
              "    <tr style=\"text-align: right;\">\n",
              "      <th></th>\n",
              "      <th>Date</th>\n",
              "      <th>Open</th>\n",
              "      <th>High</th>\n",
              "      <th>Low</th>\n",
              "      <th>Close</th>\n",
              "      <th>Adj Close</th>\n",
              "      <th>Volume</th>\n",
              "    </tr>\n",
              "  </thead>\n",
              "  <tbody>\n",
              "    <tr>\n",
              "      <th>0</th>\n",
              "      <td>2020-11-17</td>\n",
              "      <td>1776.939941</td>\n",
              "      <td>1785.000000</td>\n",
              "      <td>1767.000000</td>\n",
              "      <td>1770.150024</td>\n",
              "      <td>1770.150024</td>\n",
              "      <td>1147100</td>\n",
              "    </tr>\n",
              "    <tr>\n",
              "      <th>1</th>\n",
              "      <td>2020-11-18</td>\n",
              "      <td>1765.229980</td>\n",
              "      <td>1773.469971</td>\n",
              "      <td>1746.140015</td>\n",
              "      <td>1746.780029</td>\n",
              "      <td>1746.780029</td>\n",
              "      <td>1173500</td>\n",
              "    </tr>\n",
              "    <tr>\n",
              "      <th>2</th>\n",
              "      <td>2020-11-19</td>\n",
              "      <td>1738.380005</td>\n",
              "      <td>1769.589966</td>\n",
              "      <td>1737.005005</td>\n",
              "      <td>1763.920044</td>\n",
              "      <td>1763.920044</td>\n",
              "      <td>1249900</td>\n",
              "    </tr>\n",
              "    <tr>\n",
              "      <th>3</th>\n",
              "      <td>2020-11-20</td>\n",
              "      <td>1765.209961</td>\n",
              "      <td>1774.000000</td>\n",
              "      <td>1741.859985</td>\n",
              "      <td>1742.189941</td>\n",
              "      <td>1742.189941</td>\n",
              "      <td>2313500</td>\n",
              "    </tr>\n",
              "    <tr>\n",
              "      <th>4</th>\n",
              "      <td>2020-11-23</td>\n",
              "      <td>1749.599976</td>\n",
              "      <td>1753.900024</td>\n",
              "      <td>1717.719971</td>\n",
              "      <td>1734.859985</td>\n",
              "      <td>1734.859985</td>\n",
              "      <td>2161600</td>\n",
              "    </tr>\n",
              "    <tr>\n",
              "      <th>5</th>\n",
              "      <td>2020-11-24</td>\n",
              "      <td>1730.500000</td>\n",
              "      <td>1771.599976</td>\n",
              "      <td>1727.689941</td>\n",
              "      <td>1768.880005</td>\n",
              "      <td>1768.880005</td>\n",
              "      <td>1578000</td>\n",
              "    </tr>\n",
              "    <tr>\n",
              "      <th>6</th>\n",
              "      <td>2020-11-25</td>\n",
              "      <td>1772.890015</td>\n",
              "      <td>1778.540039</td>\n",
              "      <td>1756.540039</td>\n",
              "      <td>1771.430054</td>\n",
              "      <td>1771.430054</td>\n",
              "      <td>1045800</td>\n",
              "    </tr>\n",
              "    <tr>\n",
              "      <th>7</th>\n",
              "      <td>2020-11-27</td>\n",
              "      <td>1773.089966</td>\n",
              "      <td>1804.000000</td>\n",
              "      <td>1772.439941</td>\n",
              "      <td>1793.189941</td>\n",
              "      <td>1793.189941</td>\n",
              "      <td>884900</td>\n",
              "    </tr>\n",
              "    <tr>\n",
              "      <th>8</th>\n",
              "      <td>2020-11-30</td>\n",
              "      <td>1781.183960</td>\n",
              "      <td>1788.064941</td>\n",
              "      <td>1755.000000</td>\n",
              "      <td>1760.739990</td>\n",
              "      <td>1760.739990</td>\n",
              "      <td>1823800</td>\n",
              "    </tr>\n",
              "    <tr>\n",
              "      <th>9</th>\n",
              "      <td>2020-12-01</td>\n",
              "      <td>1774.369995</td>\n",
              "      <td>1824.829956</td>\n",
              "      <td>1769.369995</td>\n",
              "      <td>1798.099976</td>\n",
              "      <td>1798.099976</td>\n",
              "      <td>1739000</td>\n",
              "    </tr>\n",
              "    <tr>\n",
              "      <th>10</th>\n",
              "      <td>2020-12-02</td>\n",
              "      <td>1798.099976</td>\n",
              "      <td>1835.650024</td>\n",
              "      <td>1789.473022</td>\n",
              "      <td>1827.949951</td>\n",
              "      <td>1827.949951</td>\n",
              "      <td>1222000</td>\n",
              "    </tr>\n",
              "    <tr>\n",
              "      <th>11</th>\n",
              "      <td>2020-12-03</td>\n",
              "      <td>1824.010010</td>\n",
              "      <td>1847.199951</td>\n",
              "      <td>1822.650024</td>\n",
              "      <td>1826.770020</td>\n",
              "      <td>1826.770020</td>\n",
              "      <td>1227300</td>\n",
              "    </tr>\n",
              "    <tr>\n",
              "      <th>12</th>\n",
              "      <td>2020-12-04</td>\n",
              "      <td>1824.520020</td>\n",
              "      <td>1833.160034</td>\n",
              "      <td>1816.989990</td>\n",
              "      <td>1827.989990</td>\n",
              "      <td>1827.989990</td>\n",
              "      <td>1378200</td>\n",
              "    </tr>\n",
              "    <tr>\n",
              "      <th>13</th>\n",
              "      <td>2020-12-07</td>\n",
              "      <td>1819.000000</td>\n",
              "      <td>1832.369995</td>\n",
              "      <td>1805.780029</td>\n",
              "      <td>1819.479980</td>\n",
              "      <td>1819.479980</td>\n",
              "      <td>1320900</td>\n",
              "    </tr>\n",
              "    <tr>\n",
              "      <th>14</th>\n",
              "      <td>2020-12-08</td>\n",
              "      <td>1810.099976</td>\n",
              "      <td>1821.900024</td>\n",
              "      <td>1796.204956</td>\n",
              "      <td>1818.550049</td>\n",
              "      <td>1818.550049</td>\n",
              "      <td>1096300</td>\n",
              "    </tr>\n",
              "    <tr>\n",
              "      <th>15</th>\n",
              "      <td>2020-12-09</td>\n",
              "      <td>1812.010010</td>\n",
              "      <td>1834.270020</td>\n",
              "      <td>1767.810059</td>\n",
              "      <td>1784.130005</td>\n",
              "      <td>1784.130005</td>\n",
              "      <td>1507600</td>\n",
              "    </tr>\n",
              "    <tr>\n",
              "      <th>16</th>\n",
              "      <td>2020-12-10</td>\n",
              "      <td>1769.800049</td>\n",
              "      <td>1781.310059</td>\n",
              "      <td>1740.319946</td>\n",
              "      <td>1775.329956</td>\n",
              "      <td>1775.329956</td>\n",
              "      <td>1362800</td>\n",
              "    </tr>\n",
              "    <tr>\n",
              "      <th>17</th>\n",
              "      <td>2020-12-11</td>\n",
              "      <td>1763.060059</td>\n",
              "      <td>1784.449951</td>\n",
              "      <td>1760.000000</td>\n",
              "      <td>1781.770020</td>\n",
              "      <td>1781.770020</td>\n",
              "      <td>1220700</td>\n",
              "    </tr>\n",
              "    <tr>\n",
              "      <th>18</th>\n",
              "      <td>2020-12-14</td>\n",
              "      <td>1775.000000</td>\n",
              "      <td>1797.390015</td>\n",
              "      <td>1757.214966</td>\n",
              "      <td>1760.060059</td>\n",
              "      <td>1760.060059</td>\n",
              "      <td>1600200</td>\n",
              "    </tr>\n",
              "    <tr>\n",
              "      <th>19</th>\n",
              "      <td>2020-12-15</td>\n",
              "      <td>1764.420044</td>\n",
              "      <td>1771.420044</td>\n",
              "      <td>1749.949951</td>\n",
              "      <td>1767.770020</td>\n",
              "      <td>1767.770020</td>\n",
              "      <td>1481600</td>\n",
              "    </tr>\n",
              "    <tr>\n",
              "      <th>20</th>\n",
              "      <td>2020-12-16</td>\n",
              "      <td>1772.880005</td>\n",
              "      <td>1773.000000</td>\n",
              "      <td>1756.219971</td>\n",
              "      <td>1760.229980</td>\n",
              "      <td>1760.229980</td>\n",
              "      <td>890127</td>\n",
              "    </tr>\n",
              "  </tbody>\n",
              "</table>\n",
              "</div>"
            ],
            "text/plain": [
              "          Date         Open         High  ...        Close    Adj Close   Volume\n",
              "0   2020-11-17  1776.939941  1785.000000  ...  1770.150024  1770.150024  1147100\n",
              "1   2020-11-18  1765.229980  1773.469971  ...  1746.780029  1746.780029  1173500\n",
              "2   2020-11-19  1738.380005  1769.589966  ...  1763.920044  1763.920044  1249900\n",
              "3   2020-11-20  1765.209961  1774.000000  ...  1742.189941  1742.189941  2313500\n",
              "4   2020-11-23  1749.599976  1753.900024  ...  1734.859985  1734.859985  2161600\n",
              "5   2020-11-24  1730.500000  1771.599976  ...  1768.880005  1768.880005  1578000\n",
              "6   2020-11-25  1772.890015  1778.540039  ...  1771.430054  1771.430054  1045800\n",
              "7   2020-11-27  1773.089966  1804.000000  ...  1793.189941  1793.189941   884900\n",
              "8   2020-11-30  1781.183960  1788.064941  ...  1760.739990  1760.739990  1823800\n",
              "9   2020-12-01  1774.369995  1824.829956  ...  1798.099976  1798.099976  1739000\n",
              "10  2020-12-02  1798.099976  1835.650024  ...  1827.949951  1827.949951  1222000\n",
              "11  2020-12-03  1824.010010  1847.199951  ...  1826.770020  1826.770020  1227300\n",
              "12  2020-12-04  1824.520020  1833.160034  ...  1827.989990  1827.989990  1378200\n",
              "13  2020-12-07  1819.000000  1832.369995  ...  1819.479980  1819.479980  1320900\n",
              "14  2020-12-08  1810.099976  1821.900024  ...  1818.550049  1818.550049  1096300\n",
              "15  2020-12-09  1812.010010  1834.270020  ...  1784.130005  1784.130005  1507600\n",
              "16  2020-12-10  1769.800049  1781.310059  ...  1775.329956  1775.329956  1362800\n",
              "17  2020-12-11  1763.060059  1784.449951  ...  1781.770020  1781.770020  1220700\n",
              "18  2020-12-14  1775.000000  1797.390015  ...  1760.060059  1760.060059  1600200\n",
              "19  2020-12-15  1764.420044  1771.420044  ...  1767.770020  1767.770020  1481600\n",
              "20  2020-12-16  1772.880005  1773.000000  ...  1760.229980  1760.229980   890127\n",
              "\n",
              "[21 rows x 7 columns]"
            ]
          },
          "metadata": {
            "tags": []
          },
          "execution_count": 67
        }
      ]
    },
    {
      "cell_type": "code",
      "metadata": {
        "colab": {
          "base_uri": "https://localhost:8080/",
          "height": 80
        },
        "id": "o3XJhv3XvKTH",
        "outputId": "bb56c8d1-46f8-4916-d8fe-250883850fe7"
      },
      "source": [
        "# Print last row \r\n",
        "actual_price = df.tail(1)\r\n",
        "actual_price"
      ],
      "execution_count": 68,
      "outputs": [
        {
          "output_type": "execute_result",
          "data": {
            "text/html": [
              "<div>\n",
              "<style scoped>\n",
              "    .dataframe tbody tr th:only-of-type {\n",
              "        vertical-align: middle;\n",
              "    }\n",
              "\n",
              "    .dataframe tbody tr th {\n",
              "        vertical-align: top;\n",
              "    }\n",
              "\n",
              "    .dataframe thead th {\n",
              "        text-align: right;\n",
              "    }\n",
              "</style>\n",
              "<table border=\"1\" class=\"dataframe\">\n",
              "  <thead>\n",
              "    <tr style=\"text-align: right;\">\n",
              "      <th></th>\n",
              "      <th>Date</th>\n",
              "      <th>Open</th>\n",
              "      <th>High</th>\n",
              "      <th>Low</th>\n",
              "      <th>Close</th>\n",
              "      <th>Adj Close</th>\n",
              "      <th>Volume</th>\n",
              "    </tr>\n",
              "  </thead>\n",
              "  <tbody>\n",
              "    <tr>\n",
              "      <th>20</th>\n",
              "      <td>2020-12-16</td>\n",
              "      <td>1772.880005</td>\n",
              "      <td>1773.0</td>\n",
              "      <td>1756.219971</td>\n",
              "      <td>1760.22998</td>\n",
              "      <td>1760.22998</td>\n",
              "      <td>890127</td>\n",
              "    </tr>\n",
              "  </tbody>\n",
              "</table>\n",
              "</div>"
            ],
            "text/plain": [
              "          Date         Open    High  ...       Close   Adj Close  Volume\n",
              "20  2020-12-16  1772.880005  1773.0  ...  1760.22998  1760.22998  890127\n",
              "\n",
              "[1 rows x 7 columns]"
            ]
          },
          "metadata": {
            "tags": []
          },
          "execution_count": 68
        }
      ]
    },
    {
      "cell_type": "code",
      "metadata": {
        "colab": {
          "base_uri": "https://localhost:8080/",
          "height": 669
        },
        "id": "d6a3uj-fvuoj",
        "outputId": "d83c5ce2-f29b-4291-a143-4e50646e9712"
      },
      "source": [
        "# Prepare data for training excluding last row\r\n",
        "df = df.head(len(df)-1)\r\n",
        "df"
      ],
      "execution_count": 69,
      "outputs": [
        {
          "output_type": "execute_result",
          "data": {
            "text/html": [
              "<div>\n",
              "<style scoped>\n",
              "    .dataframe tbody tr th:only-of-type {\n",
              "        vertical-align: middle;\n",
              "    }\n",
              "\n",
              "    .dataframe tbody tr th {\n",
              "        vertical-align: top;\n",
              "    }\n",
              "\n",
              "    .dataframe thead th {\n",
              "        text-align: right;\n",
              "    }\n",
              "</style>\n",
              "<table border=\"1\" class=\"dataframe\">\n",
              "  <thead>\n",
              "    <tr style=\"text-align: right;\">\n",
              "      <th></th>\n",
              "      <th>Date</th>\n",
              "      <th>Open</th>\n",
              "      <th>High</th>\n",
              "      <th>Low</th>\n",
              "      <th>Close</th>\n",
              "      <th>Adj Close</th>\n",
              "      <th>Volume</th>\n",
              "    </tr>\n",
              "  </thead>\n",
              "  <tbody>\n",
              "    <tr>\n",
              "      <th>0</th>\n",
              "      <td>2020-11-17</td>\n",
              "      <td>1776.939941</td>\n",
              "      <td>1785.000000</td>\n",
              "      <td>1767.000000</td>\n",
              "      <td>1770.150024</td>\n",
              "      <td>1770.150024</td>\n",
              "      <td>1147100</td>\n",
              "    </tr>\n",
              "    <tr>\n",
              "      <th>1</th>\n",
              "      <td>2020-11-18</td>\n",
              "      <td>1765.229980</td>\n",
              "      <td>1773.469971</td>\n",
              "      <td>1746.140015</td>\n",
              "      <td>1746.780029</td>\n",
              "      <td>1746.780029</td>\n",
              "      <td>1173500</td>\n",
              "    </tr>\n",
              "    <tr>\n",
              "      <th>2</th>\n",
              "      <td>2020-11-19</td>\n",
              "      <td>1738.380005</td>\n",
              "      <td>1769.589966</td>\n",
              "      <td>1737.005005</td>\n",
              "      <td>1763.920044</td>\n",
              "      <td>1763.920044</td>\n",
              "      <td>1249900</td>\n",
              "    </tr>\n",
              "    <tr>\n",
              "      <th>3</th>\n",
              "      <td>2020-11-20</td>\n",
              "      <td>1765.209961</td>\n",
              "      <td>1774.000000</td>\n",
              "      <td>1741.859985</td>\n",
              "      <td>1742.189941</td>\n",
              "      <td>1742.189941</td>\n",
              "      <td>2313500</td>\n",
              "    </tr>\n",
              "    <tr>\n",
              "      <th>4</th>\n",
              "      <td>2020-11-23</td>\n",
              "      <td>1749.599976</td>\n",
              "      <td>1753.900024</td>\n",
              "      <td>1717.719971</td>\n",
              "      <td>1734.859985</td>\n",
              "      <td>1734.859985</td>\n",
              "      <td>2161600</td>\n",
              "    </tr>\n",
              "    <tr>\n",
              "      <th>5</th>\n",
              "      <td>2020-11-24</td>\n",
              "      <td>1730.500000</td>\n",
              "      <td>1771.599976</td>\n",
              "      <td>1727.689941</td>\n",
              "      <td>1768.880005</td>\n",
              "      <td>1768.880005</td>\n",
              "      <td>1578000</td>\n",
              "    </tr>\n",
              "    <tr>\n",
              "      <th>6</th>\n",
              "      <td>2020-11-25</td>\n",
              "      <td>1772.890015</td>\n",
              "      <td>1778.540039</td>\n",
              "      <td>1756.540039</td>\n",
              "      <td>1771.430054</td>\n",
              "      <td>1771.430054</td>\n",
              "      <td>1045800</td>\n",
              "    </tr>\n",
              "    <tr>\n",
              "      <th>7</th>\n",
              "      <td>2020-11-27</td>\n",
              "      <td>1773.089966</td>\n",
              "      <td>1804.000000</td>\n",
              "      <td>1772.439941</td>\n",
              "      <td>1793.189941</td>\n",
              "      <td>1793.189941</td>\n",
              "      <td>884900</td>\n",
              "    </tr>\n",
              "    <tr>\n",
              "      <th>8</th>\n",
              "      <td>2020-11-30</td>\n",
              "      <td>1781.183960</td>\n",
              "      <td>1788.064941</td>\n",
              "      <td>1755.000000</td>\n",
              "      <td>1760.739990</td>\n",
              "      <td>1760.739990</td>\n",
              "      <td>1823800</td>\n",
              "    </tr>\n",
              "    <tr>\n",
              "      <th>9</th>\n",
              "      <td>2020-12-01</td>\n",
              "      <td>1774.369995</td>\n",
              "      <td>1824.829956</td>\n",
              "      <td>1769.369995</td>\n",
              "      <td>1798.099976</td>\n",
              "      <td>1798.099976</td>\n",
              "      <td>1739000</td>\n",
              "    </tr>\n",
              "    <tr>\n",
              "      <th>10</th>\n",
              "      <td>2020-12-02</td>\n",
              "      <td>1798.099976</td>\n",
              "      <td>1835.650024</td>\n",
              "      <td>1789.473022</td>\n",
              "      <td>1827.949951</td>\n",
              "      <td>1827.949951</td>\n",
              "      <td>1222000</td>\n",
              "    </tr>\n",
              "    <tr>\n",
              "      <th>11</th>\n",
              "      <td>2020-12-03</td>\n",
              "      <td>1824.010010</td>\n",
              "      <td>1847.199951</td>\n",
              "      <td>1822.650024</td>\n",
              "      <td>1826.770020</td>\n",
              "      <td>1826.770020</td>\n",
              "      <td>1227300</td>\n",
              "    </tr>\n",
              "    <tr>\n",
              "      <th>12</th>\n",
              "      <td>2020-12-04</td>\n",
              "      <td>1824.520020</td>\n",
              "      <td>1833.160034</td>\n",
              "      <td>1816.989990</td>\n",
              "      <td>1827.989990</td>\n",
              "      <td>1827.989990</td>\n",
              "      <td>1378200</td>\n",
              "    </tr>\n",
              "    <tr>\n",
              "      <th>13</th>\n",
              "      <td>2020-12-07</td>\n",
              "      <td>1819.000000</td>\n",
              "      <td>1832.369995</td>\n",
              "      <td>1805.780029</td>\n",
              "      <td>1819.479980</td>\n",
              "      <td>1819.479980</td>\n",
              "      <td>1320900</td>\n",
              "    </tr>\n",
              "    <tr>\n",
              "      <th>14</th>\n",
              "      <td>2020-12-08</td>\n",
              "      <td>1810.099976</td>\n",
              "      <td>1821.900024</td>\n",
              "      <td>1796.204956</td>\n",
              "      <td>1818.550049</td>\n",
              "      <td>1818.550049</td>\n",
              "      <td>1096300</td>\n",
              "    </tr>\n",
              "    <tr>\n",
              "      <th>15</th>\n",
              "      <td>2020-12-09</td>\n",
              "      <td>1812.010010</td>\n",
              "      <td>1834.270020</td>\n",
              "      <td>1767.810059</td>\n",
              "      <td>1784.130005</td>\n",
              "      <td>1784.130005</td>\n",
              "      <td>1507600</td>\n",
              "    </tr>\n",
              "    <tr>\n",
              "      <th>16</th>\n",
              "      <td>2020-12-10</td>\n",
              "      <td>1769.800049</td>\n",
              "      <td>1781.310059</td>\n",
              "      <td>1740.319946</td>\n",
              "      <td>1775.329956</td>\n",
              "      <td>1775.329956</td>\n",
              "      <td>1362800</td>\n",
              "    </tr>\n",
              "    <tr>\n",
              "      <th>17</th>\n",
              "      <td>2020-12-11</td>\n",
              "      <td>1763.060059</td>\n",
              "      <td>1784.449951</td>\n",
              "      <td>1760.000000</td>\n",
              "      <td>1781.770020</td>\n",
              "      <td>1781.770020</td>\n",
              "      <td>1220700</td>\n",
              "    </tr>\n",
              "    <tr>\n",
              "      <th>18</th>\n",
              "      <td>2020-12-14</td>\n",
              "      <td>1775.000000</td>\n",
              "      <td>1797.390015</td>\n",
              "      <td>1757.214966</td>\n",
              "      <td>1760.060059</td>\n",
              "      <td>1760.060059</td>\n",
              "      <td>1600200</td>\n",
              "    </tr>\n",
              "    <tr>\n",
              "      <th>19</th>\n",
              "      <td>2020-12-15</td>\n",
              "      <td>1764.420044</td>\n",
              "      <td>1771.420044</td>\n",
              "      <td>1749.949951</td>\n",
              "      <td>1767.770020</td>\n",
              "      <td>1767.770020</td>\n",
              "      <td>1481600</td>\n",
              "    </tr>\n",
              "  </tbody>\n",
              "</table>\n",
              "</div>"
            ],
            "text/plain": [
              "          Date         Open         High  ...        Close    Adj Close   Volume\n",
              "0   2020-11-17  1776.939941  1785.000000  ...  1770.150024  1770.150024  1147100\n",
              "1   2020-11-18  1765.229980  1773.469971  ...  1746.780029  1746.780029  1173500\n",
              "2   2020-11-19  1738.380005  1769.589966  ...  1763.920044  1763.920044  1249900\n",
              "3   2020-11-20  1765.209961  1774.000000  ...  1742.189941  1742.189941  2313500\n",
              "4   2020-11-23  1749.599976  1753.900024  ...  1734.859985  1734.859985  2161600\n",
              "5   2020-11-24  1730.500000  1771.599976  ...  1768.880005  1768.880005  1578000\n",
              "6   2020-11-25  1772.890015  1778.540039  ...  1771.430054  1771.430054  1045800\n",
              "7   2020-11-27  1773.089966  1804.000000  ...  1793.189941  1793.189941   884900\n",
              "8   2020-11-30  1781.183960  1788.064941  ...  1760.739990  1760.739990  1823800\n",
              "9   2020-12-01  1774.369995  1824.829956  ...  1798.099976  1798.099976  1739000\n",
              "10  2020-12-02  1798.099976  1835.650024  ...  1827.949951  1827.949951  1222000\n",
              "11  2020-12-03  1824.010010  1847.199951  ...  1826.770020  1826.770020  1227300\n",
              "12  2020-12-04  1824.520020  1833.160034  ...  1827.989990  1827.989990  1378200\n",
              "13  2020-12-07  1819.000000  1832.369995  ...  1819.479980  1819.479980  1320900\n",
              "14  2020-12-08  1810.099976  1821.900024  ...  1818.550049  1818.550049  1096300\n",
              "15  2020-12-09  1812.010010  1834.270020  ...  1784.130005  1784.130005  1507600\n",
              "16  2020-12-10  1769.800049  1781.310059  ...  1775.329956  1775.329956  1362800\n",
              "17  2020-12-11  1763.060059  1784.449951  ...  1781.770020  1781.770020  1220700\n",
              "18  2020-12-14  1775.000000  1797.390015  ...  1760.060059  1760.060059  1600200\n",
              "19  2020-12-15  1764.420044  1771.420044  ...  1767.770020  1767.770020  1481600\n",
              "\n",
              "[20 rows x 7 columns]"
            ]
          },
          "metadata": {
            "tags": []
          },
          "execution_count": 69
        }
      ]
    },
    {
      "cell_type": "code",
      "metadata": {
        "id": "NlCkq2Slwbl3"
      },
      "source": [
        "# Create an empty list to store independent and dependent data\r\n",
        "days = list()\r\n",
        "adj_close_prices = list()"
      ],
      "execution_count": 70,
      "outputs": []
    },
    {
      "cell_type": "code",
      "metadata": {
        "id": "DMxEvF3GyFZP"
      },
      "source": [
        "# Get the date and adjusted close price\r\n",
        "df_days = df.loc[:, 'Date']\r\n",
        "df_adj_close = df.loc[:, 'Adj Close']\r\n"
      ],
      "execution_count": 71,
      "outputs": []
    },
    {
      "cell_type": "code",
      "metadata": {
        "id": "1-qvLvT8zR9e"
      },
      "source": [
        "#Create the independent data set\r\n",
        "for day in df_days:\r\n",
        "  days.append( [int(day.split('-')[2])] )\r\n",
        "#Create the dependent data set\r\n",
        "for adj_close_price in df_adj_close:\r\n",
        "   adj_close_prices.append( float(adj_close_price) )"
      ],
      "execution_count": 78,
      "outputs": []
    },
    {
      "cell_type": "code",
      "metadata": {
        "colab": {
          "base_uri": "https://localhost:8080/"
        },
        "id": "sjiB-kLi7Fte",
        "outputId": "41d0084c-6dcd-4e77-e584-31739e812a57"
      },
      "source": [
        "# Create the 3 Support Vector Regression Models\r\n",
        "# Create and train SVR model using a linear kernel\r\n",
        "lin_svr = SVR(kernel='linear', C=1000.0)\r\n",
        "lin_svr.fit(days, adj_close_prices)\r\n",
        "\r\n",
        "# Create the 3 Support Vector Regression Models\r\n",
        "# Create and train SVR model using a polynomial kernel\r\n",
        "poly_svr = SVR(kernel='poly', C=1000.0, degree=2)\r\n",
        "poly_svr.fit(days, adj_close_prices)\r\n",
        "\r\n",
        "# Create the 3 Support Vector Regression Models\r\n",
        "# Create and train SVR model using a rbf kernel\r\n",
        "rbf_svr = SVR(kernel='rbf', C=1000.0, gamma=0.1)\r\n",
        "rbf_svr.fit(days, adj_close_prices)"
      ],
      "execution_count": 73,
      "outputs": [
        {
          "output_type": "execute_result",
          "data": {
            "text/plain": [
              "SVR(C=1000.0, cache_size=200, coef0=0.0, degree=3, epsilon=0.1, gamma=0.1,\n",
              "    kernel='rbf', max_iter=-1, shrinking=True, tol=0.001, verbose=False)"
            ]
          },
          "metadata": {
            "tags": []
          },
          "execution_count": 73
        }
      ]
    },
    {
      "cell_type": "code",
      "metadata": {
        "colab": {
          "base_uri": "https://localhost:8080/",
          "height": 425
        },
        "id": "H39_thHN-t9g",
        "outputId": "3d6a90d8-61a2-417e-e420-593fe6fbb5d2"
      },
      "source": [
        "# Plot the models to a graph to see which has the best fit to the orginal data\r\n",
        "plt.figure(figsize=(15,7))\r\n",
        "plt.scatter(days, adj_close_prices, color='black', label='Orginal Data')\r\n",
        "plt.plot(days, rbf_svr.predict(days), color='green', label='RBF Model')\r\n",
        "plt.plot(days, poly_svr.predict(days), color='orange', label='Polynomial Model')\r\n",
        "plt.plot(days, lin_svr.predict(days), color='purple', label='Linear Model')\r\n",
        "plt.legend()\r\n",
        "plt.show()"
      ],
      "execution_count": 79,
      "outputs": [
        {
          "output_type": "display_data",
          "data": {
            "image/png": "[encoded data removed]",
            "text/plain": [
              "<Figure size 1080x504 with 1 Axes>"
            ]
          },
          "metadata": {
            "tags": []
          }
        }
      ]
    },
    {
      "cell_type": "code",
      "metadata": {
        "colab": {
          "base_uri": "https://localhost:8080/"
        },
        "id": "zYF8_LPACegt",
        "outputId": "eb1364bf-c0a1-433b-c151-25e4ff9bb99c"
      },
      "source": [
        "# Show the predicted price for te given day\r\n",
        "day = [[30]]\r\n",
        "\r\n",
        "print(\"The RBF SVR predicted:\", rbf_svr.predict(day))\r\n",
        "print(\"The Polynomial SVR predicted:\", poly_svr.predict(day))\r\n",
        "print(\"The Linear SVR predicted:\", lin_svr.predict(day))"
      ],
      "execution_count": 80,
      "outputs": [
        {
          "output_type": "stream",
          "text": [
            "The RBF SVR predicted: [1781.01001]\n",
            "The Polynomial SVR predicted: [2914.90186331]\n",
            "The Linear SVR predicted: [2409.638752]\n"
          ],
          "name": "stdout"
        }
      ]
    },
    {
      "cell_type": "code",
      "metadata": {
        "colab": {
          "base_uri": "https://localhost:8080/"
        },
        "id": "qCrKKjlHD1rH",
        "outputId": "6b38b980-411b-4f77-e71b-89ceb15f9d78"
      },
      "source": [
        "#  Print actual price\r\n",
        "\r\n",
        "print(\"The actual price is:\", actual_price[\"Adj Close\"][20])"
      ],
      "execution_count": 81,
      "outputs": [
        {
          "output_type": "stream",
          "text": [
            "The actual price is: 1760.22998\n"
          ],
          "name": "stdout"
        }
      ]
    }
  ]
}